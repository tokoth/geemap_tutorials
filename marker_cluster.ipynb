{
 "cells": [
  {
   "cell_type": "code",
   "execution_count": 1,
   "id": "ef61fe4f",
   "metadata": {
    "ExecuteTime": {
     "end_time": "2021-04-26T09:27:08.507799Z",
     "start_time": "2021-04-26T09:27:02.626130Z"
    }
   },
   "outputs": [],
   "source": [
    "import geemap"
   ]
  },
  {
   "cell_type": "code",
   "execution_count": 2,
   "id": "a14d12a7",
   "metadata": {
    "ExecuteTime": {
     "end_time": "2021-04-26T09:27:14.186986Z",
     "start_time": "2021-04-26T09:27:13.797020Z"
    }
   },
   "outputs": [],
   "source": [
    "import json\n",
    "import os\n",
    "import requests\n",
    "from geemap import geojson_to_ee, ee_to_geojson\n",
    "from ipyleaflet import GeoJSON, Marker, MarkerCluster"
   ]
  },
  {
   "cell_type": "code",
   "execution_count": 3,
   "id": "3e40f948",
   "metadata": {
    "ExecuteTime": {
     "end_time": "2021-04-26T09:27:34.856468Z",
     "start_time": "2021-04-26T09:27:20.027300Z"
    }
   },
   "outputs": [
    {
     "data": {
      "application/vnd.jupyter.widget-view+json": {
       "model_id": "d287b6a0d4024af8955b68bdd80386e5",
       "version_major": 2,
       "version_minor": 0
      },
      "text/plain": [
       "Map(center=[40, -100], controls=(WidgetControl(options=['position', 'transparent_bg'], widget=HBox(children=(T…"
      ]
     },
     "metadata": {},
     "output_type": "display_data"
    }
   ],
   "source": [
    "Map = geemap.Map()\n",
    "Map"
   ]
  },
  {
   "cell_type": "markdown",
   "id": "952d1097",
   "metadata": {},
   "source": [
    "To open a file path without any issues or syntax error. Remember to use any of the following encodings.\n",
    "\n",
    "- Change \"\\\" to be \"/\" : open(\"C:\\Users\\Clay\\Desktop\\test.txt\")\n",
    "\n",
    "- Change \"\\\" to be \"\\\\\" : open(\"C:\\\\Users\\\\Clay\\\\Desktop\\\\test.txt\")"
   ]
  },
  {
   "cell_type": "code",
   "execution_count": 9,
   "id": "038250db",
   "metadata": {
    "ExecuteTime": {
     "end_time": "2021-04-26T11:16:22.625871Z",
     "start_time": "2021-04-26T11:16:22.523858Z"
    }
   },
   "outputs": [],
   "source": [
    "file_path = os.path.abspath(\"C:/Users/Administrator/geemap/examples/data/us-cities.json\")\n",
    "\n",
    "if not os.path.exists(file_path):\n",
    "    url = 'https://github.com/giswqs/geemap/tree/master/examples/data/us-cities.json'\n",
    "    r = requests.get(url)\n",
    "    with open(file_path, 'w') as f:\n",
    "        f.write(r.content.decode(\"utf-8\"))        \n",
    "\n",
    "with open(file_path) as f:\n",
    "    json_data = json.load(f)"
   ]
  },
  {
   "cell_type": "code",
   "execution_count": 10,
   "id": "af9401cb",
   "metadata": {
    "ExecuteTime": {
     "end_time": "2021-04-26T11:17:05.191736Z",
     "start_time": "2021-04-26T11:16:41.324233Z"
    }
   },
   "outputs": [],
   "source": [
    "maker_cluster = MarkerCluster(\n",
    "    markers=[Marker(location=feature['geometry']['coordinates'][::-1]) for feature in json_data['features']],\n",
    "    name = 'Markers')"
   ]
  },
  {
   "cell_type": "code",
   "execution_count": 11,
   "id": "c7c0f754",
   "metadata": {
    "ExecuteTime": {
     "end_time": "2021-04-26T11:17:09.147403Z",
     "start_time": "2021-04-26T11:17:09.129452Z"
    }
   },
   "outputs": [],
   "source": [
    "Map.add_layer(maker_cluster)"
   ]
  },
  {
   "cell_type": "code",
   "execution_count": 12,
   "id": "74d30547",
   "metadata": {
    "ExecuteTime": {
     "end_time": "2021-04-26T11:19:53.702043Z",
     "start_time": "2021-04-26T11:18:31.377128Z"
    }
   },
   "outputs": [],
   "source": [
    "ee_fc = geojson_to_ee(json_data)\n",
    "Map.addLayer(ee_fc, {}, \"US Cities EE\")"
   ]
  }
 ],
 "metadata": {
  "hide_input": false,
  "kernelspec": {
   "display_name": "Python 3",
   "language": "python",
   "name": "python3"
  },
  "language_info": {
   "codemirror_mode": {
    "name": "ipython",
    "version": 3
   },
   "file_extension": ".py",
   "mimetype": "text/x-python",
   "name": "python",
   "nbconvert_exporter": "python",
   "pygments_lexer": "ipython3",
   "version": "3.9.1"
  },
  "toc": {
   "base_numbering": 1,
   "nav_menu": {},
   "number_sections": true,
   "sideBar": true,
   "skip_h1_title": false,
   "title_cell": "Table of Contents",
   "title_sidebar": "Contents",
   "toc_cell": false,
   "toc_position": {},
   "toc_section_display": true,
   "toc_window_display": false
  }
 },
 "nbformat": 4,
 "nbformat_minor": 5
}

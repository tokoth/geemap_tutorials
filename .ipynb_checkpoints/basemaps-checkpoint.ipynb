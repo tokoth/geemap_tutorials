{
 "cells": [
  {
   "cell_type": "markdown",
   "id": "d6205fe8",
   "metadata": {},
   "source": [
    "## Basemaps"
   ]
  },
  {
   "cell_type": "markdown",
   "id": "d59fc0bc",
   "metadata": {},
   "source": [
    "1. Always is to import the geemap library before any execution something to remember."
   ]
  },
  {
   "cell_type": "code",
   "execution_count": 1,
   "id": "326a435c",
   "metadata": {
    "ExecuteTime": {
     "end_time": "2021-04-26T06:08:28.199076Z",
     "start_time": "2021-04-26T06:08:22.501261Z"
    },
    "scrolled": true
   },
   "outputs": [],
   "source": [
    "import geemap"
   ]
  },
  {
   "cell_type": "markdown",
   "id": "2f6636f7",
   "metadata": {},
   "source": [
    "2. After importing the library you can then display the map.\n",
    "   The script below runs and displays the map and is centered on Kenya."
   ]
  },
  {
   "cell_type": "code",
   "execution_count": 2,
   "id": "5c449307",
   "metadata": {
    "ExecuteTime": {
     "end_time": "2021-04-26T06:08:45.299654Z",
     "start_time": "2021-04-26T06:08:34.897658Z"
    }
   },
   "outputs": [
    {
     "data": {
      "application/vnd.jupyter.widget-view+json": {
       "model_id": "bb10174e58964c5e8fe9ee67bff177f4",
       "version_major": 2,
       "version_minor": 0
      },
      "text/plain": [
       "Map(center=[0.0236, 37.9062], controls=(WidgetControl(options=['position', 'transparent_bg'], widget=HBox(chil…"
      ]
     },
     "metadata": {},
     "output_type": "display_data"
    }
   ],
   "source": [
    "Map = geemap.Map(center=[0.0236, 37.9062], zoom=7)\n",
    "Map"
   ]
  }
 ],
 "metadata": {
  "hide_input": false,
  "kernelspec": {
   "display_name": "Python 3",
   "language": "python",
   "name": "python3"
  },
  "language_info": {
   "codemirror_mode": {
    "name": "ipython",
    "version": 3
   },
   "file_extension": ".py",
   "mimetype": "text/x-python",
   "name": "python",
   "nbconvert_exporter": "python",
   "pygments_lexer": "ipython3",
   "version": "3.9.1"
  },
  "toc": {
   "base_numbering": 1,
   "nav_menu": {},
   "number_sections": true,
   "sideBar": true,
   "skip_h1_title": false,
   "title_cell": "Table of Contents",
   "title_sidebar": "Contents",
   "toc_cell": false,
   "toc_position": {},
   "toc_section_display": true,
   "toc_window_display": true
  }
 },
 "nbformat": 4,
 "nbformat_minor": 5
}

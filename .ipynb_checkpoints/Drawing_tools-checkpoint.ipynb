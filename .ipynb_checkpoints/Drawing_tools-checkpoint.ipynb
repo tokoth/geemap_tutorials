{
 "cells": [
  {
   "cell_type": "markdown",
   "id": "e18b4a87",
   "metadata": {},
   "source": [
    "## Using Drawing tools"
   ]
  },
  {
   "cell_type": "markdown",
   "id": "bb22c5d5",
   "metadata": {},
   "source": [
    "    -First we import geemap library and display the interactive map"
   ]
  },
  {
   "cell_type": "code",
   "execution_count": 1,
   "id": "12cf7acd",
   "metadata": {
    "ExecuteTime": {
     "end_time": "2021-04-26T07:29:21.887401Z",
     "start_time": "2021-04-26T07:29:10.560870Z"
    }
   },
   "outputs": [],
   "source": [
    "import geemap"
   ]
  },
  {
   "cell_type": "code",
   "execution_count": 2,
   "id": "79993bf6",
   "metadata": {
    "ExecuteTime": {
     "end_time": "2021-04-26T07:30:11.359641Z",
     "start_time": "2021-04-26T07:29:57.483085Z"
    },
    "scrolled": true
   },
   "outputs": [
    {
     "data": {
      "application/vnd.jupyter.widget-view+json": {
       "model_id": "330b98ea418d465cb1e132065ae0f8c7",
       "version_major": 2,
       "version_minor": 0
      },
      "text/plain": [
       "Map(center=[40, -100], controls=(WidgetControl(options=['position', 'transparent_bg'], widget=HBox(children=(T…"
      ]
     },
     "metadata": {},
     "output_type": "display_data"
    },
    {
     "name": "stderr",
     "output_type": "stream",
     "text": [
      "Matplotlib is building the font cache; this may take a moment.\n"
     ]
    }
   ],
   "source": [
    "Map = geemap.Map()\n",
    "Map"
   ]
  },
  {
   "cell_type": "markdown",
   "id": "b042faf4",
   "metadata": {},
   "source": [
    "    -We then import the earth engine library"
   ]
  },
  {
   "cell_type": "code",
   "execution_count": 3,
   "id": "2df6c30c",
   "metadata": {
    "ExecuteTime": {
     "end_time": "2021-04-26T07:30:45.151395Z",
     "start_time": "2021-04-26T07:30:45.141421Z"
    }
   },
   "outputs": [],
   "source": [
    "import ee "
   ]
  },
  {
   "cell_type": "markdown",
   "id": "f1d9680b",
   "metadata": {},
   "source": [
    "    -In this example the script was modified to import ee global dem for the image/raster data and FAO global boundary data for the vector data."
   ]
  },
  {
   "cell_type": "code",
   "execution_count": 9,
   "id": "fc3e707e",
   "metadata": {
    "ExecuteTime": {
     "end_time": "2021-04-26T08:13:30.760542Z",
     "start_time": "2021-04-26T08:13:28.220399Z"
    }
   },
   "outputs": [],
   "source": [
    "# Add Earth Engine dataset\n",
    "# Setting variable image to be the global DEM SRTM data from earth engine data catalog.\n",
    "image = ee.Image('USGS/SRTMGL1_003')\n",
    "\n",
    "# Set visualization parameters.\n",
    "vis_params = {\n",
    "  'min': 0,\n",
    "  'max': 4000,\n",
    "  'palette': ['006633', 'E5FFCC', '662A00', 'D8D8D8', 'F5F5F5']}\n",
    "\n",
    "# Add Earth Engine DEM to map\n",
    "Map.addLayer(image, vis_params, 'SRTM DEM')\n",
    "\n",
    "# Setting variable of vector layers to be the global boundary data from FAO as is in ee data catalog\n",
    "country = ee.FeatureCollection(\"FAO/GAUL/2015/level2\")\n",
    "Map.addLayer(country, {}, 'Country')"
   ]
  },
  {
   "cell_type": "markdown",
   "id": "fbcfc4f1",
   "metadata": {},
   "source": [
    "    -A set of features were drawn on the interactive map polygons/rectangles and place markers used to create drawn map features picked by the interactive map"
   ]
  },
  {
   "cell_type": "code",
   "execution_count": 10,
   "id": "6dc83b62",
   "metadata": {
    "ExecuteTime": {
     "end_time": "2021-04-26T08:38:29.714632Z",
     "start_time": "2021-04-26T08:38:29.570482Z"
    }
   },
   "outputs": [
    {
     "data": {
      "text/plain": [
       "[<ee.feature.Feature at 0x2c7139b4c10>, <ee.feature.Feature at 0x2c7139c2c10>]"
      ]
     },
     "execution_count": 10,
     "metadata": {},
     "output_type": "execute_result"
    }
   ],
   "source": [
    "Map.draw_features"
   ]
  },
  {
   "cell_type": "markdown",
   "id": "386dc570",
   "metadata": {},
   "source": [
    "    - The script below assigns the variable roi to the drawn features it is then used to filter the country vector data and return a map layer of the selected polygons"
   ]
  },
  {
   "cell_type": "code",
   "execution_count": 11,
   "id": "7792cf17",
   "metadata": {
    "ExecuteTime": {
     "end_time": "2021-04-26T08:40:30.183133Z",
     "start_time": "2021-04-26T08:40:28.837300Z"
    }
   },
   "outputs": [],
   "source": [
    "roi = ee.FeatureCollection(Map.draw_features)\n",
    "selected_aoi = country.filterBounds(roi)\n",
    "Map.addLayer(selected_aoi, {}, \"Selected aoi\")"
   ]
  },
  {
   "cell_type": "markdown",
   "id": "0b016d63",
   "metadata": {},
   "source": [
    "    -The script below assigns the variable clipped_image for clipped dem data using the selected aoi and return a map layer of the dem of the selected aoi region only."
   ]
  },
  {
   "cell_type": "code",
   "execution_count": 12,
   "id": "78c8904b",
   "metadata": {
    "ExecuteTime": {
     "end_time": "2021-04-26T08:41:47.627172Z",
     "start_time": "2021-04-26T08:41:46.337969Z"
    }
   },
   "outputs": [],
   "source": [
    "clipped_image = image.clip(selected_aoi)\n",
    "Map.addLayer(clipped_image, vis_params, 'Clipped image')"
   ]
  }
 ],
 "metadata": {
  "hide_input": false,
  "kernelspec": {
   "display_name": "Python 3",
   "language": "python",
   "name": "python3"
  },
  "language_info": {
   "codemirror_mode": {
    "name": "ipython",
    "version": 3
   },
   "file_extension": ".py",
   "mimetype": "text/x-python",
   "name": "python",
   "nbconvert_exporter": "python",
   "pygments_lexer": "ipython3",
   "version": "3.9.1"
  },
  "toc": {
   "base_numbering": 1,
   "nav_menu": {},
   "number_sections": true,
   "sideBar": true,
   "skip_h1_title": false,
   "title_cell": "Table of Contents",
   "title_sidebar": "Contents",
   "toc_cell": false,
   "toc_position": {},
   "toc_section_display": true,
   "toc_window_display": true
  }
 },
 "nbformat": 4,
 "nbformat_minor": 5
}

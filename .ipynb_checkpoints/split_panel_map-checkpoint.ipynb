{
 "cells": [
  {
   "cell_type": "markdown",
   "id": "9809c98c",
   "metadata": {},
   "source": [
    "## Using Split Panel Map"
   ]
  },
  {
   "cell_type": "markdown",
   "id": "4c1ee383",
   "metadata": {},
   "source": [
    "    - Always import the geemap library."
   ]
  },
  {
   "cell_type": "code",
   "execution_count": 1,
   "id": "986b5087",
   "metadata": {
    "ExecuteTime": {
     "end_time": "2021-04-26T06:39:31.803229Z",
     "start_time": "2021-04-26T06:39:19.878751Z"
    }
   },
   "outputs": [],
   "source": [
    "import geemap"
   ]
  },
  {
   "cell_type": "markdown",
   "id": "7fe56962",
   "metadata": {},
   "source": [
    "    - Display the interactive map. Also the script below displays a split panel map of the basemaps loaded in the map."
   ]
  },
  {
   "cell_type": "code",
   "execution_count": 2,
   "id": "92256882",
   "metadata": {
    "ExecuteTime": {
     "end_time": "2021-04-26T06:39:52.333894Z",
     "start_time": "2021-04-26T06:39:38.699462Z"
    }
   },
   "outputs": [
    {
     "data": {
      "application/vnd.jupyter.widget-view+json": {
       "model_id": "7ffde05e9139453298df5f229d55d7e0",
       "version_major": 2,
       "version_minor": 0
      },
      "text/plain": [
       "Map(center=[40, -100], controls=(WidgetControl(options=['position', 'transparent_bg'], widget=HBox(children=(T…"
      ]
     },
     "metadata": {},
     "output_type": "display_data"
    }
   ],
   "source": [
    "Map = geemap.Map()\n",
    "Map.split_map(left_layer='NLCD 2011 CONUS Land Cover', right_layer='NLCD 2001 CONUS Land Cover')\n",
    "Map"
   ]
  },
  {
   "cell_type": "markdown",
   "id": "68cee09b",
   "metadata": {},
   "source": [
    "## Earth Engine datasets displayed in a split panel map"
   ]
  },
  {
   "cell_type": "markdown",
   "id": "4bb4baba",
   "metadata": {},
   "source": [
    "     - Import earth engine library"
   ]
  },
  {
   "cell_type": "code",
   "execution_count": 4,
   "id": "d013c6ea",
   "metadata": {
    "ExecuteTime": {
     "end_time": "2021-04-26T06:45:27.128354Z",
     "start_time": "2021-04-26T06:45:27.071505Z"
    }
   },
   "outputs": [],
   "source": [
    "import ee"
   ]
  },
  {
   "cell_type": "markdown",
   "id": "cc17b10d",
   "metadata": {},
   "source": [
    "    - The dataset imported for this example is the Canada's annual food crop inventory data. "
   ]
  },
  {
   "cell_type": "code",
   "execution_count": 5,
   "id": "fd21e8f4",
   "metadata": {
    "ExecuteTime": {
     "end_time": "2021-04-26T06:45:49.685313Z",
     "start_time": "2021-04-26T06:45:47.399427Z"
    }
   },
   "outputs": [
    {
     "name": "stdout",
     "output_type": "stream",
     "text": [
      "['AAFC/ACI/2009', 'AAFC/ACI/2010', 'AAFC/ACI/2011', 'AAFC/ACI/2012', 'AAFC/ACI/2013', 'AAFC/ACI/2014', 'AAFC/ACI/2015', 'AAFC/ACI/2016', 'AAFC/ACI/2017', 'AAFC/ACI/2018', 'AAFC/ACI/2019']\n"
     ]
    }
   ],
   "source": [
    "## https://developers.google.com/earth-engine/datasets/catalog/\n",
    "## The dataset imported for this example is the Canada's annual food crop inventory data. \n",
    "\n",
    "collection = ee.ImageCollection(\"AAFC/ACI\")\n",
    "print(collection.aggregate_array('system:id').getInfo())"
   ]
  },
  {
   "cell_type": "code",
   "execution_count": 6,
   "id": "6c98409e",
   "metadata": {
    "ExecuteTime": {
     "end_time": "2021-04-26T06:46:02.055359Z",
     "start_time": "2021-04-26T06:45:59.304720Z"
    }
   },
   "outputs": [
    {
     "data": {
      "application/vnd.jupyter.widget-view+json": {
       "model_id": "d19876a142214fc5be728308da5c56c0",
       "version_major": 2,
       "version_minor": 0
      },
      "text/plain": [
       "Map(center=[40, -100], controls=(WidgetControl(options=['position', 'transparent_bg'], widget=HBox(children=(T…"
      ]
     },
     "metadata": {},
     "output_type": "display_data"
    }
   ],
   "source": [
    "nlcd_2009 = ee.Image('AAFC/ACI/2009').select('landcover')\n",
    "nlcd_2019 = ee.Image('AAFC/ACI/2019').select('landcover')\n",
    "\n",
    "left_layer = geemap.ee_tile_layer(nlcd_2009, {}, 'NLCD 2009')\n",
    "right_layer = geemap.ee_tile_layer(nlcd_2019, {}, 'NLCD 2019')\n",
    "\n",
    "Map = geemap.Map()\n",
    "Map.split_map(left_layer, right_layer)\n",
    "Map"
   ]
  },
  {
   "cell_type": "code",
   "execution_count": null,
   "id": "67ce0c60",
   "metadata": {},
   "outputs": [],
   "source": []
  }
 ],
 "metadata": {
  "hide_input": false,
  "kernelspec": {
   "display_name": "Python 3",
   "language": "python",
   "name": "python3"
  },
  "language_info": {
   "codemirror_mode": {
    "name": "ipython",
    "version": 3
   },
   "file_extension": ".py",
   "mimetype": "text/x-python",
   "name": "python",
   "nbconvert_exporter": "python",
   "pygments_lexer": "ipython3",
   "version": "3.9.1"
  },
  "toc": {
   "base_numbering": 1,
   "nav_menu": {},
   "number_sections": true,
   "sideBar": true,
   "skip_h1_title": false,
   "title_cell": "Table of Contents",
   "title_sidebar": "Contents",
   "toc_cell": false,
   "toc_position": {},
   "toc_section_display": true,
   "toc_window_display": false
  }
 },
 "nbformat": 4,
 "nbformat_minor": 5
}

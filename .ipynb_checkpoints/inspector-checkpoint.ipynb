{
 "cells": [
  {
   "cell_type": "markdown",
   "id": "352c3b92",
   "metadata": {
    "ExecuteTime": {
     "end_time": "2021-04-26T06:23:47.111111Z",
     "start_time": "2021-04-26T06:23:47.047281Z"
    }
   },
   "source": [
    "## Using the Inspector tool"
   ]
  },
  {
   "cell_type": "markdown",
   "id": "7d6b259a",
   "metadata": {},
   "source": [
    "Step 1. Always import the geemap library first."
   ]
  },
  {
   "cell_type": "code",
   "execution_count": 9,
   "id": "326a435c",
   "metadata": {
    "ExecuteTime": {
     "end_time": "2021-04-26T06:28:07.321348Z",
     "start_time": "2021-04-26T06:28:07.297412Z"
    }
   },
   "outputs": [],
   "source": [
    "import geemap"
   ]
  },
  {
   "cell_type": "markdown",
   "id": "83941398",
   "metadata": {},
   "source": [
    "Step 2. Display the interactive map."
   ]
  },
  {
   "cell_type": "code",
   "execution_count": null,
   "id": "2fe9b5be",
   "metadata": {
    "ExecuteTime": {
     "end_time": "2021-04-26T06:28:13.711255Z",
     "start_time": "2021-04-26T06:28:12.046712Z"
    }
   },
   "outputs": [],
   "source": [
    "#The center and zoom details added on the script displays Kenya on the interactive map\n",
    "\n",
    "Map = geemap.Map(center=[0.0236,37.9062], zoom=7)\n",
    "Map"
   ]
  },
  {
   "cell_type": "markdown",
   "id": "f336c9d1",
   "metadata": {},
   "source": [
    "Step 3. One can additionally add basemaps in the interactive map."
   ]
  },
  {
   "cell_type": "code",
   "execution_count": 3,
   "id": "5c449307",
   "metadata": {
    "ExecuteTime": {
     "end_time": "2021-04-26T06:17:20.372932Z",
     "start_time": "2021-04-26T06:17:20.364953Z"
    }
   },
   "outputs": [],
   "source": [
    "Map.add_basemap(\"ROADMAP\")\n",
    "Map.add_basemap(\"TERRAIN\")"
   ]
  },
  {
   "cell_type": "markdown",
   "id": "9fb84ab7",
   "metadata": {},
   "source": [
    "## Importing Earth Engine datasets."
   ]
  },
  {
   "cell_type": "markdown",
   "id": "bb18c497",
   "metadata": {},
   "source": [
    "The script below now imports earth engine dataset into the interactive map."
   ]
  },
  {
   "cell_type": "code",
   "execution_count": null,
   "id": "19f8dd2c",
   "metadata": {
    "ExecuteTime": {
     "end_time": "2021-04-26T06:19:25.956188Z",
     "start_time": "2021-04-26T06:19:25.868422Z"
    }
   },
   "outputs": [],
   "source": [
    "import ee"
   ]
  },
  {
   "cell_type": "code",
   "execution_count": null,
   "id": "bf17cc4a",
   "metadata": {
    "ExecuteTime": {
     "end_time": "2021-04-26T06:19:49.708771Z",
     "start_time": "2021-04-26T06:19:45.585061Z"
    }
   },
   "outputs": [],
   "source": [
    "# Add Earth Engine dataset\n",
    "dem = ee.Image('USGS/SRTMGL1_003')\n",
    "landcover = ee.Image(\"ESA/GLOBCOVER_L4_200901_200912_V2_3\").select('landcover')\n",
    "landsat7 = ee.Image('LE7_TOA_5YEAR/1999_2003').select(['B1', 'B2', 'B3', 'B4', 'B5', 'B7'])\n",
    "states = ee.FeatureCollection(\"TIGER/2018/States\")\n",
    "\n",
    "# Set visualization parameters.\n",
    "vis_params = {\n",
    "  'min': 0,\n",
    "  'max': 4000,\n",
    "  'palette': ['006633', 'E5FFCC', '662A00', 'D8D8D8', 'F5F5F5']}\n",
    "\n",
    "# Add Earth Eninge layers to Map\n",
    "Map.addLayer(dem, vis_params, 'SRTM DEM', True, 0.5)\n",
    "Map.addLayer(landcover, {}, 'Land cover')\n",
    "Map.addLayer(landsat7, {'bands': ['B4', 'B3', 'B2'], 'min': 20, 'max': 200, 'gamma': 2.0}, 'Landsat 7')\n",
    "Map.addLayer(states, {}, \"US States\")\n",
    "\n",
    "Map"
   ]
  },
  {
   "cell_type": "code",
   "execution_count": null,
   "id": "a2cc6c3d",
   "metadata": {},
   "outputs": [],
   "source": []
  }
 ],
 "metadata": {
  "hide_input": false,
  "kernelspec": {
   "display_name": "Python 3",
   "language": "python",
   "name": "python3"
  },
  "language_info": {
   "codemirror_mode": {
    "name": "ipython",
    "version": 3
   },
   "file_extension": ".py",
   "mimetype": "text/x-python",
   "name": "python",
   "nbconvert_exporter": "python",
   "pygments_lexer": "ipython3",
   "version": "3.9.1"
  },
  "toc": {
   "base_numbering": 1,
   "nav_menu": {},
   "number_sections": true,
   "sideBar": true,
   "skip_h1_title": false,
   "title_cell": "Table of Contents",
   "title_sidebar": "Contents",
   "toc_cell": false,
   "toc_position": {},
   "toc_section_display": true,
   "toc_window_display": true
  }
 },
 "nbformat": 4,
 "nbformat_minor": 5
}

{
 "cells": [
  {
   "cell_type": "markdown",
   "id": "7c7ec88c-9248-4cd4-a577-32045948617a",
   "metadata": {
    "tags": []
   },
   "source": [
    "## Displaying Interactive Map"
   ]
  },
  {
   "cell_type": "markdown",
   "id": "3e0ea623-569e-4c0d-ab9a-b51c42a06459",
   "metadata": {},
   "source": [
    "1. First we import the geemap library."
   ]
  },
  {
   "cell_type": "code",
   "execution_count": 1,
   "id": "8d8bf25c",
   "metadata": {
    "ExecuteTime": {
     "end_time": "2021-04-23T09:06:49.361489Z",
     "start_time": "2021-04-23T09:06:43.351534Z"
    }
   },
   "outputs": [],
   "source": [
    "import geemap"
   ]
  },
  {
   "cell_type": "markdown",
   "id": "c436c2e4-bd6d-46e7-aa59-617dcd484df3",
   "metadata": {
    "hide_input": false
   },
   "source": [
    "2. After importing library we dispaly the interactive map and center it to Kenya."
   ]
  },
  {
   "cell_type": "code",
   "execution_count": 3,
   "id": "7d07c69d",
   "metadata": {
    "ExecuteTime": {
     "end_time": "2021-04-23T09:16:03.427654Z",
     "start_time": "2021-04-23T09:16:01.178609Z"
    },
    "scrolled": true
   },
   "outputs": [
    {
     "data": {
      "application/vnd.jupyter.widget-view+json": {
       "model_id": "43d71f2c31694678ab08dd4cdee077e9",
       "version_major": 2,
       "version_minor": 0
      },
      "text/plain": [
       "Map(center=[0.0236, 37.9062], controls=(WidgetControl(options=['position', 'transparent_bg'], widget=HBox(chil…"
      ]
     },
     "metadata": {},
     "output_type": "display_data"
    }
   ],
   "source": [
    "Map = geemap.Map(center=[0.0236,37.9062], zoom=6)\n",
    "Map"
   ]
  }
 ],
 "metadata": {
  "hide_input": false,
  "kernelspec": {
   "display_name": "Python 3",
   "language": "python",
   "name": "python3"
  },
  "language_info": {
   "codemirror_mode": {
    "name": "ipython",
    "version": 3
   },
   "file_extension": ".py",
   "mimetype": "text/x-python",
   "name": "python",
   "nbconvert_exporter": "python",
   "pygments_lexer": "ipython3",
   "version": "3.9.1"
  },
  "toc": {
   "base_numbering": 1,
   "nav_menu": {},
   "number_sections": true,
   "sideBar": true,
   "skip_h1_title": false,
   "title_cell": "Table of Contents",
   "title_sidebar": "Contents",
   "toc_cell": false,
   "toc_position": {},
   "toc_section_display": true,
   "toc_window_display": false
  }
 },
 "nbformat": 4,
 "nbformat_minor": 5
}
